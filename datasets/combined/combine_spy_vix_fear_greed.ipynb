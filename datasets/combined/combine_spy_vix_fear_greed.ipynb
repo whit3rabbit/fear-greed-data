{
  "nbformat": 4,
  "nbformat_minor": 0,
  "metadata": {
    "colab": {
      "provenance": []
    },
    "kernelspec": {
      "name": "python3",
      "display_name": "Python 3"
    },
    "language_info": {
      "name": "python"
    }
  },
  "cells": [
    {
      "cell_type": "code",
      "execution_count": 1,
      "metadata": {
        "colab": {
          "base_uri": "https://localhost:8080/"
        },
        "id": "HT2avwWBueum",
        "outputId": "b12fa25c-1818-4a98-c048-9e51b5f0c7be"
      },
      "outputs": [
        {
          "output_type": "stream",
          "name": "stdout",
          "text": [
            "Requirement already satisfied: yfinance in /usr/local/lib/python3.10/dist-packages (0.2.33)\n",
            "Requirement already satisfied: pandas>=1.3.0 in /usr/local/lib/python3.10/dist-packages (from yfinance) (1.5.3)\n",
            "Requirement already satisfied: numpy>=1.16.5 in /usr/local/lib/python3.10/dist-packages (from yfinance) (1.23.5)\n",
            "Requirement already satisfied: requests>=2.31 in /usr/local/lib/python3.10/dist-packages (from yfinance) (2.31.0)\n",
            "Requirement already satisfied: multitasking>=0.0.7 in /usr/local/lib/python3.10/dist-packages (from yfinance) (0.0.11)\n",
            "Requirement already satisfied: lxml>=4.9.1 in /usr/local/lib/python3.10/dist-packages (from yfinance) (4.9.3)\n",
            "Requirement already satisfied: appdirs>=1.4.4 in /usr/local/lib/python3.10/dist-packages (from yfinance) (1.4.4)\n",
            "Requirement already satisfied: pytz>=2022.5 in /usr/local/lib/python3.10/dist-packages (from yfinance) (2023.3.post1)\n",
            "Requirement already satisfied: frozendict>=2.3.4 in /usr/local/lib/python3.10/dist-packages (from yfinance) (2.3.10)\n",
            "Requirement already satisfied: peewee>=3.16.2 in /usr/local/lib/python3.10/dist-packages (from yfinance) (3.17.0)\n",
            "Requirement already satisfied: beautifulsoup4>=4.11.1 in /usr/local/lib/python3.10/dist-packages (from yfinance) (4.11.2)\n",
            "Requirement already satisfied: html5lib>=1.1 in /usr/local/lib/python3.10/dist-packages (from yfinance) (1.1)\n",
            "Requirement already satisfied: soupsieve>1.2 in /usr/local/lib/python3.10/dist-packages (from beautifulsoup4>=4.11.1->yfinance) (2.5)\n",
            "Requirement already satisfied: six>=1.9 in /usr/local/lib/python3.10/dist-packages (from html5lib>=1.1->yfinance) (1.16.0)\n",
            "Requirement already satisfied: webencodings in /usr/local/lib/python3.10/dist-packages (from html5lib>=1.1->yfinance) (0.5.1)\n",
            "Requirement already satisfied: python-dateutil>=2.8.1 in /usr/local/lib/python3.10/dist-packages (from pandas>=1.3.0->yfinance) (2.8.2)\n",
            "Requirement already satisfied: charset-normalizer<4,>=2 in /usr/local/lib/python3.10/dist-packages (from requests>=2.31->yfinance) (3.3.2)\n",
            "Requirement already satisfied: idna<4,>=2.5 in /usr/local/lib/python3.10/dist-packages (from requests>=2.31->yfinance) (3.6)\n",
            "Requirement already satisfied: urllib3<3,>=1.21.1 in /usr/local/lib/python3.10/dist-packages (from requests>=2.31->yfinance) (2.0.7)\n",
            "Requirement already satisfied: certifi>=2017.4.17 in /usr/local/lib/python3.10/dist-packages (from requests>=2.31->yfinance) (2023.11.17)\n"
          ]
        }
      ],
      "source": [
        "!pip install yfinance\n"
      ]
    },
    {
      "cell_type": "code",
      "source": [
        "import yfinance as yf\n",
        "\n",
        "# Download VIX data\n",
        "vix = yf.download('^VIX', start='2011-01-01', end='2024-01-01')\n",
        "vix.to_csv('vix_2011_2023.csv')\n",
        "\n",
        "# Download SPY data\n",
        "spy = yf.download('SPY', start='2011-01-01', end='2024-01-01')\n",
        "spy.to_csv('spy_2011_2023.csv')"
      ],
      "metadata": {
        "colab": {
          "base_uri": "https://localhost:8080/"
        },
        "id": "HWYlXZqWusQk",
        "outputId": "54c89a79-7459-49ba-bf79-3688d44a3fc4"
      },
      "execution_count": 5,
      "outputs": [
        {
          "output_type": "stream",
          "name": "stdout",
          "text": [
            "[*********************100%%**********************]  1 of 1 completed\n",
            "[*********************100%%**********************]  1 of 1 completed\n"
          ]
        }
      ]
    },
    {
      "cell_type": "code",
      "source": [
        "!wget https://raw.githubusercontent.com/whit3rabbit/fear-greed-data/main/fear-greed-2011-2023.csv"
      ],
      "metadata": {
        "colab": {
          "base_uri": "https://localhost:8080/"
        },
        "id": "mOGdX3NwxKR4",
        "outputId": "1c79bbe6-d29d-4920-9358-b8f1ea65ca3a"
      },
      "execution_count": 3,
      "outputs": [
        {
          "output_type": "stream",
          "name": "stdout",
          "text": [
            "--2024-01-01 16:06:32--  https://raw.githubusercontent.com/whit3rabbit/fear-greed-data/main/fear-greed-2011-2023.csv\n",
            "Resolving raw.githubusercontent.com (raw.githubusercontent.com)... 185.199.111.133, 185.199.108.133, 185.199.109.133, ...\n",
            "Connecting to raw.githubusercontent.com (raw.githubusercontent.com)|185.199.111.133|:443... connected.\n",
            "HTTP request sent, awaiting response... 200 OK\n",
            "Length: 42043 (41K) [text/plain]\n",
            "Saving to: ‘fear-greed-2011-2023.csv’\n",
            "\n",
            "\rfear-greed-2011-202   0%[                    ]       0  --.-KB/s               \rfear-greed-2011-202 100%[===================>]  41.06K  --.-KB/s    in 0.004s  \n",
            "\n",
            "2024-01-01 16:06:32 (11.0 MB/s) - ‘fear-greed-2011-2023.csv’ saved [42043/42043]\n",
            "\n"
          ]
        }
      ]
    },
    {
      "cell_type": "code",
      "source": [
        "import pandas as pd\n",
        "\n",
        "# Load the datasets\n",
        "vix_data = pd.read_csv('vix_2011_2023.csv')\n",
        "spy_data = pd.read_csv('spy_2011_2023.csv')\n",
        "fear_greed_data = pd.read_csv('fear-greed-2011-2023.csv')\n",
        "\n",
        "# Standardizing the date format in the Fear & Greed dataset\n",
        "fear_greed_data['Date'] = pd.to_datetime(fear_greed_data['Date']).dt.strftime('%Y-%m-%d')\n",
        "\n",
        "# Merging the datasets on the 'Date' column\n",
        "combined_data = pd.merge(pd.merge(vix_data, spy_data, on='Date', how='outer', suffixes=('_VIX', '_SPY')), fear_greed_data, on='Date', how='outer')\n",
        "\n",
        "# Removing the dates with missing VIX and SPY data\n",
        "cleaned_combined_data = combined_data.dropna(subset=['Open_VIX', 'Open_SPY'])\n",
        "\n",
        "# Removing the 'Volume_VIX' column from the cleaned dataset since its empty\n",
        "cleaned_combined_data = cleaned_combined_data.drop(columns=['Volume_VIX'])\n",
        "\n",
        "# Saving the cleaned data to a CSV file\n",
        "cleaned_combined_data.to_csv('spy_vix_fear_greed_2011_2023.csv', index=False)"
      ],
      "metadata": {
        "id": "UEEMXUwBxI--"
      },
      "execution_count": 6,
      "outputs": []
    }
  ]
}